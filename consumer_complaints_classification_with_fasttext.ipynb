{
  "nbformat": 4,
  "nbformat_minor": 0,
  "metadata": {
    "colab": {
      "name": "consumer_complaints_classification_with_fasttext.ipynb",
      "version": "0.3.2",
      "provenance": [],
      "collapsed_sections": [],
      "include_colab_link": true
    },
    "kernelspec": {
      "name": "python3",
      "display_name": "Python 3"
    }
  },
  "cells": [
    {
      "cell_type": "markdown",
      "metadata": {
        "id": "view-in-github",
        "colab_type": "text"
      },
      "source": [
        "<a href=\"https://colab.research.google.com/github/sofieneJ/classification_CES_project_sources/blob/master/consumer_complaints_classification_with_fasttext.ipynb\" target=\"_parent\"><img src=\"https://colab.research.google.com/assets/colab-badge.svg\" alt=\"Open In Colab\"/></a>"
      ]
    },
    {
      "cell_type": "markdown",
      "metadata": {
        "id": "fZCrRp5it5Gh",
        "colab_type": "text"
      },
      "source": [
        "#Init"
      ]
    },
    {
      "cell_type": "code",
      "metadata": {
        "id": "qyxbAXX_t9FH",
        "colab_type": "code",
        "colab": {
          "base_uri": "https://localhost:8080/",
          "height": 246
        },
        "outputId": "21e6fde7-0160-43fe-dd61-b409cf3d48cf"
      },
      "source": [
        "pip install fasttext"
      ],
      "execution_count": 2,
      "outputs": [
        {
          "output_type": "stream",
          "text": [
            "Collecting fasttext\n",
            "\u001b[?25l  Downloading https://files.pythonhosted.org/packages/10/61/2e01f1397ec533756c1d893c22d9d5ed3fce3a6e4af1976e0d86bb13ea97/fasttext-0.9.1.tar.gz (57kB)\n",
            "\u001b[K     |████████████████████████████████| 61kB 2.4MB/s \n",
            "\u001b[?25hRequirement already satisfied: pybind11>=2.2 in /usr/local/lib/python3.6/dist-packages (from fasttext) (2.3.0)\n",
            "Requirement already satisfied: setuptools>=0.7.0 in /usr/local/lib/python3.6/dist-packages (from fasttext) (41.2.0)\n",
            "Requirement already satisfied: numpy in /usr/local/lib/python3.6/dist-packages (from fasttext) (1.16.4)\n",
            "Building wheels for collected packages: fasttext\n",
            "  Building wheel for fasttext (setup.py) ... \u001b[?25l\u001b[?25hdone\n",
            "  Created wheel for fasttext: filename=fasttext-0.9.1-cp36-cp36m-linux_x86_64.whl size=2385260 sha256=93db1d8df6ea51130a7784952bf4845bb0ce38b8430832d519a066223b66dda2\n",
            "  Stored in directory: /root/.cache/pip/wheels/9f/f0/04/caa82c912aee89ce76358ff954f3f0729b7577c8ff23a292e3\n",
            "Successfully built fasttext\n",
            "Installing collected packages: fasttext\n",
            "Successfully installed fasttext-0.9.1\n"
          ],
          "name": "stdout"
        }
      ]
    },
    {
      "cell_type": "code",
      "metadata": {
        "id": "_auPcqkkuCw7",
        "colab_type": "code",
        "colab": {
          "base_uri": "https://localhost:8080/",
          "height": 72
        },
        "outputId": "e33b39f6-970d-4ef9-f173-273b762efc7d"
      },
      "source": [
        "import numpy as np\n",
        "import pandas as pd\n",
        "import fasttext as ft\n",
        "import gensim\n",
        "\n",
        "from sklearn.preprocessing import StandardScaler\n",
        "\n",
        "\n",
        "from time import time\n",
        "from sklearn.metrics import f1_score\n",
        "from sklearn.metrics import classification_report\n",
        "from sklearn.externals import joblib\n",
        "\n",
        "from sklearn.svm import  SVC"
      ],
      "execution_count": 3,
      "outputs": [
        {
          "output_type": "stream",
          "text": [
            "/usr/local/lib/python3.6/dist-packages/sklearn/externals/joblib/__init__.py:15: DeprecationWarning: sklearn.externals.joblib is deprecated in 0.21 and will be removed in 0.23. Please import this functionality directly from joblib, which can be installed with: pip install joblib. If this warning is raised when loading pickled models, you may need to re-serialize those models with scikit-learn 0.21+.\n",
            "  warnings.warn(msg, category=DeprecationWarning)\n"
          ],
          "name": "stderr"
        }
      ]
    },
    {
      "cell_type": "markdown",
      "metadata": {
        "id": "7mAz9fy3va-8",
        "colab_type": "text"
      },
      "source": [
        "# mounting to google drive"
      ]
    },
    {
      "cell_type": "code",
      "metadata": {
        "id": "YgcA9u5hu9dl",
        "colab_type": "code",
        "colab": {
          "base_uri": "https://localhost:8080/",
          "height": 34
        },
        "outputId": "d9dae107-0d67-40d6-ba3a-a70cdeeff3a5"
      },
      "source": [
        "from google.colab import drive\n",
        "drive.mount('/content/gdrive', force_remount=True)\n",
        "root_dir = \"/content/gdrive/My Drive/\"\n",
        "\n",
        "\n",
        "#@markdown 1- complaints_data_dir is the main dataset dir.\n",
        "#@markdown under the complaints_data_dir there should be the raw csv file with two columns ['Product', 'Consumer complaint narrative']\n",
        "complaints_data_dir = root_dir + 'my_colab_storage/consumer_complaints_data/'\n",
        "\n",
        "#@markdown 2- The dir to train/test split csv files. This director should be under complaints_data_dir\n",
        "evaluation_data_dir = complaints_data_dir+'train_test_data/'\n",
        "# tf.gfile.MakeDirs(evaluation_data_dir)\n",
        "\n",
        "#@markdown 3- ft_model is the path to the fasttext fine-tuned model\n",
        "ft_model_path = root_dir +'my_colab_storage/CC_fasttext_models/myFastTextModel2_skipgram_100_reduced.bin'\n",
        "#@markdown 4- trained_classifier_path is the path to the trained classifier\n",
        "trained_classifier_path = root_dir+'my_colab_storage/CC_fasttext_models/fasttext_svm_classifier.sav'\n",
        "#@markdown 5- data scaler\n",
        "data_scaler_path = root_dir+'my_colab_storage/CC_fasttext_models/std_scaler.sav'\n",
        "\n",
        "train_test_data_dir = complaints_data_dir +'train_test_data/'\n"
      ],
      "execution_count": 24,
      "outputs": [
        {
          "output_type": "stream",
          "text": [
            "Mounted at /content/gdrive\n"
          ],
          "name": "stdout"
        }
      ]
    },
    {
      "cell_type": "markdown",
      "metadata": {
        "id": "fjGLZxGZzPT6",
        "colab_type": "text"
      },
      "source": [
        "# Data"
      ]
    },
    {
      "cell_type": "code",
      "metadata": {
        "id": "Klb7K8Y2zJxO",
        "colab_type": "code",
        "colab": {
          "base_uri": "https://localhost:8080/",
          "height": 334
        },
        "outputId": "b2876417-472c-4827-d3f8-eb0bfc955dbe"
      },
      "source": [
        "LABEL_COLUMN = 'Product'\n",
        "DATA_COLUMN = 'Consumer complaint narrative'\n",
        "from sklearn.model_selection import train_test_split\n",
        "# kept_categories = []\n",
        "\n",
        "def filter_subsample_split_data():\n",
        "  # label_list is the list of labels, i.e. True, False or 0, 1 or 'dog', 'cat'\n",
        "  # label_list = []\n",
        "  raw_data_file = complaints_data_dir +'Consumer_Complaints_light.csv'\n",
        "  complains_df = pd.read_csv(filepath_or_buffer=raw_data_file, sep=',')\n",
        "  my_categories = ['Debt collection', 'Mortgage', 'Credit reporting', 'Student loan', 'Credit card', 'Bank account or service', \n",
        "  'Checking or savings account', 'Consumer Loan', 'Vehicle loan or lease', 'Money transfer, virtual currency, or money service']\n",
        "\n",
        "  my_categories = ['Debt collection', 'Mortgage', 'Credit reporting', 'Student loan', 'Credit card']\n",
        "\n",
        "  complains_df = complains_df.loc[complains_df[LABEL_COLUMN].isin(my_categories)].reset_index(drop=True)\n",
        "  print ('size after category filter ', complains_df.shape)\n",
        "  # print (complains_df.head())\n",
        "  count_cols = [LABEL_COLUMN, 'Count']\n",
        "  complains_by_group = complains_df.groupby(by=LABEL_COLUMN,axis=0).count().reset_index().rename(columns = {DATA_COLUMN:'Count'})\n",
        "  # print (type(complains_by_group))\n",
        "  print (complains_by_group.sort_values(by=\"Count\", ascending =False))\n",
        "\n",
        "\n",
        "  ########################### Sub-sample the dataset #########################################\n",
        "  index_reduced = np.arange(0,complains_df.shape[0])\n",
        "  np.random.shuffle(index_reduced)\n",
        "  kept_data_ratio = 0.1\n",
        "  index_reduced = index_reduced[0:int(complains_df.shape[0]*kept_data_ratio)]\n",
        "  complains_df = complains_df.loc[index_reduced]\n",
        "\n",
        "  print ('complaints distribution after subsampling')\n",
        "  count_cols = [LABEL_COLUMN, 'Count']\n",
        "  complains_by_group = complains_df.groupby(by=LABEL_COLUMN,axis=0).count().reset_index().rename(columns = {DATA_COLUMN:'Count'})\n",
        "  # print (type(complains_by_group))\n",
        "  print (complains_by_group.sort_values(by=\"Count\", ascending =False))\n",
        "  kept_categories =  np.sort(complains_df[LABEL_COLUMN].unique())\n",
        "  \n",
        "\n",
        "  ########################### test train split the dataset #########################################\n",
        "  cats = complains_df[LABEL_COLUMN]\n",
        "  corpus = complains_df[DATA_COLUMN]\n",
        "  corpus_train, corpus_test, cat_train, cat_test = train_test_split(corpus, cats, test_size = 0.3, random_state=100)\n",
        "  \n",
        "  ########################### Dump train test datasets #######################################\n",
        "  \n",
        "  corpus_train.to_csv(path_or_buf= train_test_data_dir+'train_corpus.csv', index = False, header = True)\n",
        "  corpus_test.to_csv(path_or_buf= train_test_data_dir+'test_corpus.csv', index = False, header = True)\n",
        "  cat_train.to_csv(path_or_buf= train_test_data_dir+'train_cat.csv', index = False, header = True)\n",
        "  cat_test.to_csv(path_or_buf= train_test_data_dir+'test_cat.csv', index = False, header = True)\n",
        "  print (f'train subset size: {corpus_train.shape}')\n",
        "  print (f'test subset size: {corpus_test.shape}')\n",
        "  \n",
        "   ########################### dump test data set to file for evaluation ############################\n",
        "  test_data_set = pd.concat((cat_test, corpus_test), axis=1)\n",
        "  test_data_set.to_csv(path_or_buf= train_test_data_dir+'test_data_set.csv',columns=['Product', 'Consumer complaint narrative'],index=False)\n",
        "  \n",
        "  return kept_categories\n",
        "  \n",
        "kept_categories = filter_subsample_split_data()\n",
        "print ('kept categories are:',kept_categories )"
      ],
      "execution_count": 6,
      "outputs": [
        {
          "output_type": "stream",
          "text": [
            "size after category filter  (212171, 2)\n",
            "            Product  Count\n",
            "2   Debt collection  86850\n",
            "3          Mortgage  53056\n",
            "1  Credit reporting  31588\n",
            "4      Student loan  21839\n",
            "0       Credit card  18838\n",
            "complaints distribution after subsampling\n",
            "            Product  Count\n",
            "2   Debt collection   8678\n",
            "3          Mortgage   5292\n",
            "1  Credit reporting   3217\n",
            "4      Student loan   2149\n",
            "0       Credit card   1881\n",
            "train subset size: (14851,)\n",
            "test subset size: (6366,)\n",
            "kept categories are: ['Credit card' 'Credit reporting' 'Debt collection' 'Mortgage'\n",
            " 'Student loan']\n"
          ],
          "name": "stdout"
        }
      ]
    },
    {
      "cell_type": "code",
      "metadata": {
        "id": "V4f-XdaMzB_I",
        "colab_type": "code",
        "colab": {}
      },
      "source": [
        "max_seq_length = 512\n",
        "min_seq_length = 5\n",
        "\n",
        "REFUSED_DOC_TAG = '<<<refused_document>>>'\n",
        "def simple_preprocess_func (doc):\n",
        "  seq = gensim.utils.simple_preprocess(gensim.parsing.remove_stopwords(doc), min_len=2, max_len=25)\n",
        "  if len(seq)<min_seq_length or len(seq)>max_seq_length:\n",
        "    return REFUSED_DOC_TAG\n",
        "  else:\n",
        "    return ' '.join(seq)\n"
      ],
      "execution_count": 0,
      "outputs": []
    },
    {
      "cell_type": "code",
      "metadata": {
        "id": "zxLUDtyCzXg8",
        "colab_type": "code",
        "colab": {
          "base_uri": "https://localhost:8080/",
          "height": 210
        },
        "outputId": "569d94b1-2138-4437-8952-7152b2d59bc5"
      },
      "source": [
        "def preprocess_data():\n",
        " \n",
        "  subsets = ('train','test')\n",
        "  dfs = []\n",
        "  for subset in subsets:\n",
        "    ############################# corpus preprocessing ######################################\n",
        "    corpus_path = train_test_data_dir+f'{subset}_corpus.csv'\n",
        "    corpus_ser = pd.read_csv(filepath_or_buffer=corpus_path, sep=',')[DATA_COLUMN]\n",
        "    print (f'{subset} corpus size before preprocessing is {corpus_ser.shape}')\n",
        "    corpus_ser = corpus_ser.apply(lambda txt : simple_preprocess_func(txt))\n",
        "\n",
        "    valid_index = (corpus_ser != REFUSED_DOC_TAG).tolist()\n",
        "    corpus_ser = corpus_ser[valid_index].reset_index(drop=True)\n",
        "    print (f'{subset} corpus size after preprocessing is {corpus_ser.shape}')\n",
        "    \n",
        "    ###################################### Some statictics #####################################\n",
        "    doc_lens = np.array([len(doc.split()) for doc in corpus_ser])\n",
        "    print (f'{subset} mean length is {np.mean(doc_lens)}')\n",
        "    print (f'{subset} max length is {np.max(doc_lens)}')\n",
        "\n",
        "    \n",
        "    ###################################### Named category conversion ##########################\n",
        "    cat_path = train_test_data_dir+ f'{subset}_cat.csv'\n",
        "    cats_ser = pd.read_csv(filepath_or_buffer=cat_path, sep=',')[LABEL_COLUMN]\n",
        "    class_dico = {i:classe for i,classe in enumerate(np.sort(cats_ser.unique()))}\n",
        "    print ('classes', class_dico)\n",
        "    inv_class_dico = {item[1]:item[0] for item in class_dico.items()}\n",
        "    cats_ser = cats_ser.apply(lambda x : inv_class_dico[x])\n",
        "    cats_ser = cats_ser[valid_index].reset_index(drop=True)\n",
        "    #preprocessed_cat_path = f'data\\\\{subset}_cat_reduced.csv'\n",
        "    #cats_ser.to_csv(path_or_buf=preprocessed_cat_path, index=False)\n",
        "\n",
        "    assert(cats_ser.shape[0]==corpus_ser.shape[0])\n",
        "    \n",
        "    ###################################### Dump preprocessed training corpus ###################\n",
        "    if subset=='train':\n",
        "      corpus_ser.to_csv(train_test_data_dir+'preprocessed_train_corpus.csv', header=False)\n",
        "    \n",
        "    ###################################### returning DataFrames ##########################\n",
        "    data_dic = {DATA_COLUMN: corpus_ser, LABEL_COLUMN:cats_ser}\n",
        "    subset_df = pd.DataFrame(data_dic)\n",
        "    dfs.append(subset_df)\n",
        "  \n",
        "  label_list = [i for i in np.sort(dfs[0][LABEL_COLUMN].unique())]\n",
        "  \n",
        "  return dfs[0], dfs[1], label_list\n",
        "\n",
        "train_df, test_df, label_list = preprocess_data()\n",
        "print ('the label list is:', label_list)\n"
      ],
      "execution_count": 14,
      "outputs": [
        {
          "output_type": "stream",
          "text": [
            "train corpus size before preprocessing is (14851,)\n",
            "train corpus size after preprocessing is (14659,)\n",
            "train mean length is 93.67814994201514\n",
            "train max length is 509\n",
            "classes {0: 'Credit card', 1: 'Credit reporting', 2: 'Debt collection', 3: 'Mortgage', 4: 'Student loan'}\n",
            "test corpus size before preprocessing is (6366,)\n",
            "test corpus size after preprocessing is (6275,)\n",
            "test mean length is 92.8380876494024\n",
            "test max length is 510\n",
            "classes {0: 'Credit card', 1: 'Credit reporting', 2: 'Debt collection', 3: 'Mortgage', 4: 'Student loan'}\n",
            "the label list is: [0, 1, 2, 3, 4]\n"
          ],
          "name": "stdout"
        }
      ]
    },
    {
      "cell_type": "code",
      "metadata": {
        "id": "7NMyfY2g7zN4",
        "colab_type": "code",
        "colab": {
          "base_uri": "https://localhost:8080/",
          "height": 52
        },
        "outputId": "4d2bd66e-927c-4bad-f7b0-646b25b04eab"
      },
      "source": [
        "train_text = train_df[DATA_COLUMN].tolist()\n",
        "train_label = train_df[LABEL_COLUMN].tolist()\n",
        "print (f' train text length {len(train_text)}')\n",
        "\n",
        "\n",
        "test_text = test_df[DATA_COLUMN].tolist()\n",
        "test_label = test_df[LABEL_COLUMN].tolist()\n",
        "print (f' test text length {len(test_text)}')"
      ],
      "execution_count": 31,
      "outputs": [
        {
          "output_type": "stream",
          "text": [
            " train text length 14659\n",
            " test text length 6270\n"
          ],
          "name": "stdout"
        }
      ]
    },
    {
      "cell_type": "markdown",
      "metadata": {
        "id": "SUYybxAL7_hL",
        "colab_type": "text"
      },
      "source": [
        "# Training model"
      ]
    },
    {
      "cell_type": "markdown",
      "metadata": {
        "id": "tSAOCdod8Qbi",
        "colab_type": "text"
      },
      "source": [
        "## fine-tune fasttext"
      ]
    },
    {
      "cell_type": "code",
      "metadata": {
        "id": "sRLWKEvH8Drd",
        "colab_type": "code",
        "colab": {
          "base_uri": "https://localhost:8080/",
          "height": 52
        },
        "outputId": "b6a25353-d548-43da-d20f-6bd70d716264"
      },
      "source": [
        "    # # # # # # TRAIN THE MODEL # # # # # # \n",
        "  preprocessed_train_corpus = train_test_data_dir+ 'preprocessed_train_corpus.csv'\n",
        "  t0 = time()\n",
        "  print ('starting training of fasttext model...')\n",
        "  model = ft.train_unsupervised(input=preprocessed_train_corpus, model='skipgram', verbose=0, dim=100, epoch=10)\n",
        "  print ('training of fastText done in {}'.format (time() - t0))\n",
        "\n",
        "  model.save_model(ft_model_path)"
      ],
      "execution_count": 32,
      "outputs": [
        {
          "output_type": "stream",
          "text": [
            "starting training of fasttext model...\n",
            "training of fastText done in 313.9973051548004\n"
          ],
          "name": "stdout"
        }
      ]
    },
    {
      "cell_type": "markdown",
      "metadata": {
        "id": "fGHtKbYFAVy8",
        "colab_type": "text"
      },
      "source": [
        "## generate documents embeddings"
      ]
    },
    {
      "cell_type": "code",
      "metadata": {
        "id": "r2M_BSA-AYNB",
        "colab_type": "code",
        "colab": {
          "base_uri": "https://localhost:8080/",
          "height": 70
        },
        "outputId": "9c8361ea-ef8c-4f0f-c3c3-df9c331b5a84"
      },
      "source": [
        "\n",
        "#     model_path = f'model\\\\myFastTextModel2_skipgram_{dim}_reduced.bin'\n",
        "#     model = ft2.load_model(model_path)\n",
        "t0 = time()\n",
        "X_train = np.vstack([model.get_sentence_vector(doc) for doc in train_text])\n",
        "X_test = np.vstack([model.get_sentence_vector(doc) for doc in test_text])\n",
        "print(f'it took {time()- t0} seconds to infer fasttext embeddings')\n",
        "\n",
        "print (f'subset train shape {X_train.shape}')\n",
        "print (f'subset test shape {X_test.shape}')"
      ],
      "execution_count": 33,
      "outputs": [
        {
          "output_type": "stream",
          "text": [
            "it took 8.650897741317749 seconds to infer fasttext embeddings\n",
            "subset train shape (14659, 100)\n",
            "subset test shape (6270, 100)\n"
          ],
          "name": "stdout"
        }
      ]
    },
    {
      "cell_type": "markdown",
      "metadata": {
        "id": "t24o29eyBpI2",
        "colab_type": "text"
      },
      "source": [
        "## scaling data"
      ]
    },
    {
      "cell_type": "code",
      "metadata": {
        "id": "WRZH5MsHBZ3D",
        "colab_type": "code",
        "colab": {
          "base_uri": "https://localhost:8080/",
          "height": 52
        },
        "outputId": "da17a702-cd9f-49ee-a2f2-7e283c6689eb"
      },
      "source": [
        "t0 = time()\n",
        "scaler = StandardScaler()\n",
        "X_train = scaler.fit_transform(X_train)\n",
        "X_test = scaler.transform(X_test)\n",
        "print(f'scaling the data it took {time()- t0} seconds')\n",
        "\n",
        "joblib.dump(scaler, data_scaler_path) "
      ],
      "execution_count": 34,
      "outputs": [
        {
          "output_type": "stream",
          "text": [
            "scaling the data it took 0.052205562591552734 seconds\n"
          ],
          "name": "stdout"
        },
        {
          "output_type": "execute_result",
          "data": {
            "text/plain": [
              "['/content/gdrive/My Drive/my_colab_storage/CC_fasttext_models/std_scaler.sav']"
            ]
          },
          "metadata": {
            "tags": []
          },
          "execution_count": 34
        }
      ]
    },
    {
      "cell_type": "markdown",
      "metadata": {
        "id": "GW7MvOYvBwRp",
        "colab_type": "text"
      },
      "source": [
        "## training the classifier"
      ]
    },
    {
      "cell_type": "code",
      "metadata": {
        "id": "oFWMfYsnBzNo",
        "colab_type": "code",
        "colab": {
          "base_uri": "https://localhost:8080/",
          "height": 52
        },
        "outputId": "9281e190-3d25-4667-e14c-b9d1ff69cab3"
      },
      "source": [
        "clf = SVC(probability=True)\n",
        "t0 = time()\n",
        "clf.fit(X_train, train_label)\n",
        "print(f'training the model {clf.__class__.__name__} took {time()- t0} seconds')\n",
        "\n",
        "\n",
        "joblib.dump(clf, trained_classifier_path)"
      ],
      "execution_count": 35,
      "outputs": [
        {
          "output_type": "stream",
          "text": [
            "training the model SVC took 85.06654620170593 seconds\n"
          ],
          "name": "stdout"
        },
        {
          "output_type": "execute_result",
          "data": {
            "text/plain": [
              "['/content/gdrive/My Drive/my_colab_storage/CC_fasttext_models/fasttext_svm_classifier.sav']"
            ]
          },
          "metadata": {
            "tags": []
          },
          "execution_count": 35
        }
      ]
    },
    {
      "cell_type": "markdown",
      "metadata": {
        "id": "3OLWe8xjCWij",
        "colab_type": "text"
      },
      "source": [
        "## Evaluate classifier"
      ]
    },
    {
      "cell_type": "code",
      "metadata": {
        "id": "DoMPcRrgCZLJ",
        "colab_type": "code",
        "colab": {
          "base_uri": "https://localhost:8080/",
          "height": 246
        },
        "outputId": "e378d886-4de1-42e3-aef0-67253263635f"
      },
      "source": [
        "label_pred = clf.predict(X_test)\n",
        "print (f'{clf.__class__.__name__} with FastText accuracy score {clf.score(X_test, test_label)}')\n",
        "\n",
        "classification_report_df = classification_report(test_label, label_pred, target_names = kept_categories) \n",
        "print (classification_report_df)"
      ],
      "execution_count": 36,
      "outputs": [
        {
          "output_type": "stream",
          "text": [
            "SVC with FastText accuracy score 0.8771929824561403\n",
            "                  precision    recall  f1-score   support\n",
            "\n",
            "     Credit card       0.83      0.77      0.80       578\n",
            "Credit reporting       0.80      0.78      0.79       934\n",
            " Debt collection       0.87      0.90      0.89      2521\n",
            "        Mortgage       0.93      0.95      0.94      1581\n",
            "    Student loan       0.89      0.86      0.87       656\n",
            "\n",
            "        accuracy                           0.88      6270\n",
            "       macro avg       0.87      0.85      0.86      6270\n",
            "    weighted avg       0.88      0.88      0.88      6270\n",
            "\n"
          ],
          "name": "stdout"
        }
      ]
    },
    {
      "cell_type": "markdown",
      "metadata": {
        "id": "acUgNPj1wP8u",
        "colab_type": "text"
      },
      "source": [
        "# Model's predictions Analysis"
      ]
    },
    {
      "cell_type": "code",
      "metadata": {
        "id": "AAd70jATDONZ",
        "colab_type": "code",
        "colab": {
          "base_uri": "https://localhost:8080/",
          "height": 193
        },
        "outputId": "466ea7a2-5e9e-43f0-f882-305850f1aa26"
      },
      "source": [
        "\n",
        "ft_model = ft.load_model(ft_model_path)\n",
        "scaler = joblib.load(data_scaler_path)\n",
        "classifier =joblib.load(trained_classifier_path)\n",
        "\n",
        "cat_dict = {0: 'Credit card', 1: 'Credit reporting', 2: 'Debt collection', 3: 'Mortgage', 4: 'Student loan'}\n",
        "cats_list = list(cat_dict.values())\n",
        "\n",
        "test_data_df = pd.read_csv(train_test_data_dir+'test_data_set.csv')\n",
        "\n",
        "\n",
        "\n",
        "confidence_threshold_span = np.arange(0.5, 0.95, 0.05)\n",
        "std_dev_threshold = 0.3\n",
        "\n",
        "unclassified_perc = []\n",
        "true_confident_classification_perc = []\n",
        "\n",
        "for confidence_threshold in confidence_threshold_span:\n",
        "  nb_correct_calssification = 0\n",
        "  nb_unclassified = 0\n",
        "  nb_refused_documents = 0\n",
        "  \n",
        "  for index , row in test_data_df.iterrows():\n",
        "    preprocessed_doc = simple_preprocess_func (row['Consumer complaint narrative'])\n",
        "    if preprocessed_doc != REFUSED_DOC_TAG:\n",
        "      # get the document embedding\n",
        "      tf_embeddings = ft_model.get_sentence_vector(preprocessed_doc)\n",
        "      # scale the embeddings\n",
        "      tf_embeddings = scaler.transform(tf_embeddings.reshape(1,-1))\n",
        "      # run classification\n",
        "      preds = classifier.predict_proba(tf_embeddings.reshape(1,-1))\n",
        "\n",
        "\n",
        "      proba_dict = dict(zip(cats_list, preds[0]))\n",
        "\n",
        "\n",
        "      cats, proba_list = list(proba_dict.keys()), list(proba_dict.values())\n",
        "      if np.max(proba_list) > confidence_threshold :#or np.std(proba_list)>std_dev_threshold:\n",
        "        if cats[np.argmax(proba_list)] == row['Product']:\n",
        "          nb_correct_calssification +=1\n",
        "      else:\n",
        "        nb_unclassified +=1\n",
        "    else:\n",
        "      nb_refused_documents +=1\n",
        "  \n",
        "  unclassified_per = ((nb_refused_documents+nb_unclassified)/test_data_df.shape[0])*100\n",
        "  correct_confident_classification_per = nb_correct_calssification/(test_data_df.shape[0]-nb_unclassified-nb_refused_documents)*100\n",
        "  print (f'testing with confidence level {confidence_threshold:.2f} gave {unclassified_per:.2f}% unclassified percentage and {correct_confident_classification_per:.2f}% accuracy on confident classification')\n",
        "  unclassified_perc.append(unclassified_per)\n",
        "  true_confident_classification_perc.append(correct_confident_classification_per)\n",
        "  \n",
        "\n",
        "\n",
        "# print (f'refused docs percentage: {nb_refused_documents/test_data_df.shape[0] }')\n",
        "# print (f'unclassified percentage: {nb_unclassified/(test_data_df.shape[0] - nb_refused_documents)}')\n",
        "# print (f'accuracy on confident classification percentage: {nb_correct_calssification/(test_data_df.shape[0]-nb_unclassified-nb_refused_documents)}')\n"
      ],
      "execution_count": 26,
      "outputs": [
        {
          "output_type": "stream",
          "text": [
            "\n"
          ],
          "name": "stderr"
        },
        {
          "output_type": "stream",
          "text": [
            "testing with confidence level 0.50 gave 4.76% unclassified percentage and 89.92% accuracy on confident classification\n",
            "testing with confidence level 0.55 gave 6.83% unclassified percentage and 90.66% accuracy on confident classification\n",
            "testing with confidence level 0.60 gave 9.36% unclassified percentage and 91.53% accuracy on confident classification\n",
            "testing with confidence level 0.65 gave 11.84% unclassified percentage and 92.43% accuracy on confident classification\n",
            "testing with confidence level 0.70 gave 14.33% unclassified percentage and 93.16% accuracy on confident classification\n",
            "testing with confidence level 0.75 gave 17.50% unclassified percentage and 94.02% accuracy on confident classification\n",
            "testing with confidence level 0.80 gave 21.21% unclassified percentage and 94.82% accuracy on confident classification\n",
            "testing with confidence level 0.85 gave 26.34% unclassified percentage and 95.41% accuracy on confident classification\n",
            "testing with confidence level 0.90 gave 33.24% unclassified percentage and 96.28% accuracy on confident classification\n"
          ],
          "name": "stdout"
        }
      ]
    },
    {
      "cell_type": "code",
      "metadata": {
        "id": "PUyOeF191aX3",
        "colab_type": "code",
        "colab": {
          "base_uri": "https://localhost:8080/",
          "height": 674
        },
        "outputId": "8bba9bcc-cae7-47be-da08-a1d6704e703a"
      },
      "source": [
        "import matplotlib.pyplot as plt\n",
        "%matplotlib inline\n",
        "\n",
        "print (unclassified_perc)\n",
        "print (true_confident_classification_perc)\n",
        "\n",
        "plt.figure(figsize=(10,10))\n",
        "\n",
        "plt.plot(confidence_threshold_span, true_confident_classification_perc,  '.-', label = 'accuracy on confident classification', color='green')\n",
        "plt.plot(confidence_threshold_span, unclassified_perc, '.-',label = 'unclassified document percentage', color='red')\n",
        "# Add titles\n",
        "plt.title(\"prediction confidence analysis\")\n",
        "plt.xlabel(\"confidence threshold\")\n",
        "# Add legend\n",
        "plt.legend(loc='center')\n",
        "\n"
      ],
      "execution_count": 27,
      "outputs": [
        {
          "output_type": "stream",
          "text": [
            "[4.759660697455231, 6.833176248821866, 9.362236883443293, 11.844172164624569, 14.326107445805844, 17.499214577442665, 21.20640904806786, 26.343072573044296, 33.23908262645303]\n",
            "[89.92248062015504, 90.65924801888383, 91.52512998266897, 92.42694226657163, 93.16098276494316, 94.02132520944402, 94.81658692185007, 95.41480059714225, 96.28235294117647]\n"
          ],
          "name": "stdout"
        },
        {
          "output_type": "execute_result",
          "data": {
            "text/plain": [
              "<matplotlib.legend.Legend at 0x7f9519cb1668>"
            ]
          },
          "metadata": {
            "tags": []
          },
          "execution_count": 27
        },
        {
          "output_type": "display_data",
          "data": {
            "image/png": "[encoded data removed]",
            "text/plain": [
              "<Figure size 720x720 with 1 Axes>"
            ]
          },
          "metadata": {
            "tags": []
          }
        }
      ]
    },
    {
      "cell_type": "code",
      "metadata": {
        "id": "hWTjERDLG0-N",
        "colab_type": "code",
        "colab": {}
      },
      "source": [
        ""
      ],
      "execution_count": 0,
      "outputs": []
    }
  ]
}