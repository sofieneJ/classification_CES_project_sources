{
  "nbformat": 4,
  "nbformat_minor": 0,
  "metadata": {
    "colab": {
      "name": "consumer_complaints_classification_with_fasttext_v2.ipynb",
      "version": "0.3.2",
      "provenance": [],
      "collapsed_sections": [],
      "include_colab_link": true
    },
    "kernelspec": {
      "name": "python3",
      "display_name": "Python 3"
    },
    "accelerator": "GPU"
  },
  "cells": [
    {
      "cell_type": "markdown",
      "metadata": {
        "id": "view-in-github",
        "colab_type": "text"
      },
      "source": [
        "<a href=\"https://colab.research.google.com/github/sofieneJ/classification_CES_project_sources/blob/master/consumer_complaints_classification_with_fasttext_v2.ipynb\" target=\"_parent\"><img src=\"https://colab.research.google.com/assets/colab-badge.svg\" alt=\"Open In Colab\"/></a>"
      ]
    },
    {
      "cell_type": "markdown",
      "metadata": {
        "id": "fZCrRp5it5Gh",
        "colab_type": "text"
      },
      "source": [
        "#Init"
      ]
    },
    {
      "cell_type": "code",
      "metadata": {
        "id": "qyxbAXX_t9FH",
        "colab_type": "code",
        "outputId": "5e318442-87a2-4002-f3dc-9eb896f72a3b",
        "colab": {
          "base_uri": "https://localhost:8080/",
          "height": 254
        }
      },
      "source": [
        "pip install fasttext"
      ],
      "execution_count": 1,
      "outputs": [
        {
          "output_type": "stream",
          "text": [
            "Collecting fasttext\n",
            "\u001b[?25l  Downloading https://files.pythonhosted.org/packages/10/61/2e01f1397ec533756c1d893c22d9d5ed3fce3a6e4af1976e0d86bb13ea97/fasttext-0.9.1.tar.gz (57kB)\n",
            "\r\u001b[K     |█████▊                          | 10kB 19.8MB/s eta 0:00:01\r\u001b[K     |███████████▍                    | 20kB 1.7MB/s eta 0:00:01\r\u001b[K     |█████████████████               | 30kB 2.5MB/s eta 0:00:01\r\u001b[K     |██████████████████████▊         | 40kB 1.7MB/s eta 0:00:01\r\u001b[K     |████████████████████████████▍   | 51kB 2.1MB/s eta 0:00:01\r\u001b[K     |████████████████████████████████| 61kB 2.4MB/s \n",
            "\u001b[?25hRequirement already satisfied: pybind11>=2.2 in /usr/local/lib/python3.6/dist-packages (from fasttext) (2.3.0)\n",
            "Requirement already satisfied: setuptools>=0.7.0 in /usr/local/lib/python3.6/dist-packages (from fasttext) (41.2.0)\n",
            "Requirement already satisfied: numpy in /usr/local/lib/python3.6/dist-packages (from fasttext) (1.16.5)\n",
            "Building wheels for collected packages: fasttext\n",
            "  Building wheel for fasttext (setup.py) ... \u001b[?25l\u001b[?25hdone\n",
            "  Created wheel for fasttext: filename=fasttext-0.9.1-cp36-cp36m-linux_x86_64.whl size=2380058 sha256=a5480f7d8ea069c0a5fd771caa3a8236d75b7c637751197575933c45af331405\n",
            "  Stored in directory: /root/.cache/pip/wheels/9f/f0/04/caa82c912aee89ce76358ff954f3f0729b7577c8ff23a292e3\n",
            "Successfully built fasttext\n",
            "Installing collected packages: fasttext\n",
            "Successfully installed fasttext-0.9.1\n"
          ],
          "name": "stdout"
        }
      ]
    },
    {
      "cell_type": "code",
      "metadata": {
        "id": "_auPcqkkuCw7",
        "colab_type": "code",
        "outputId": "aedfa8a5-167a-43f3-93b7-91ceb25441b1",
        "colab": {
          "base_uri": "https://localhost:8080/",
          "height": 74
        }
      },
      "source": [
        "import numpy as np\n",
        "import pandas as pd\n",
        "import fasttext as ft\n",
        "import gensim\n",
        "\n",
        "from sklearn.preprocessing import StandardScaler\n",
        "\n",
        "\n",
        "from time import time\n",
        "from sklearn.metrics import f1_score\n",
        "from sklearn.metrics import classification_report\n",
        "from sklearn.externals import joblib\n",
        "\n",
        "from sklearn.svm import  SVC"
      ],
      "execution_count": 2,
      "outputs": [
        {
          "output_type": "stream",
          "text": [
            "/usr/local/lib/python3.6/dist-packages/sklearn/externals/joblib/__init__.py:15: DeprecationWarning: sklearn.externals.joblib is deprecated in 0.21 and will be removed in 0.23. Please import this functionality directly from joblib, which can be installed with: pip install joblib. If this warning is raised when loading pickled models, you may need to re-serialize those models with scikit-learn 0.21+.\n",
            "  warnings.warn(msg, category=DeprecationWarning)\n"
          ],
          "name": "stderr"
        }
      ]
    },
    {
      "cell_type": "markdown",
      "metadata": {
        "id": "7mAz9fy3va-8",
        "colab_type": "text"
      },
      "source": [
        "# mounting to google drive"
      ]
    },
    {
      "cell_type": "code",
      "metadata": {
        "id": "YgcA9u5hu9dl",
        "colab_type": "code",
        "outputId": "6a7441cf-bb45-4e28-a6eb-9ecf949cb42b",
        "colab": {
          "base_uri": "https://localhost:8080/",
          "height": 128
        }
      },
      "source": [
        "from google.colab import drive\n",
        "drive.mount('/content/gdrive', force_remount=True)\n",
        "root_dir = \"/content/gdrive/My Drive/\"\n",
        "\n",
        "\n",
        "#@markdown 1- complaints_data_dir is the main dataset dir.\n",
        "#@markdown under the complaints_data_dir there should be the raw csv file with two columns ['Product', 'Consumer complaint narrative']\n",
        "complaints_data_dir = root_dir + 'my_colab_storage/consumer_complaints_data/'\n",
        "\n",
        "#@markdown 2- The dir to train/test split csv files. This director should be under complaints_data_dir\n",
        "evaluation_data_dir = complaints_data_dir+'train_test_data/'\n",
        "# tf.gfile.MakeDirs(evaluation_data_dir)\n",
        "\n",
        "#@markdown 3- ft_model is the path to the fasttext fine-tuned model\n",
        "ft_model_path = root_dir +'my_colab_storage/CC_fasttext_models/myFastTextModel2_skipgram.bin'\n",
        "#@markdown 4- trained_classifier_path is the path to the trained classifier\n",
        "trained_classifier_path = root_dir+'my_colab_storage/CC_fasttext_models/fasttext_svm_classifier.sav'\n",
        "#@markdown 5- data scaler\n",
        "data_scaler_path = root_dir+'my_colab_storage/CC_fasttext_models/std_scaler.sav'\n",
        "\n",
        "train_test_data_dir = complaints_data_dir +'train_test_data/'\n"
      ],
      "execution_count": 3,
      "outputs": [
        {
          "output_type": "stream",
          "text": [
            "Go to this URL in a browser: https://accounts.google.com/o/oauth2/auth?client_id=947318989803-6bn6qk8qdgf4n4g3pfee6491hc0brc4i.apps.googleusercontent.com&redirect_uri=urn%3Aietf%3Awg%3Aoauth%3A2.0%3Aoob&scope=email%20https%3A%2F%2Fwww.googleapis.com%2Fauth%2Fdocs.test%20https%3A%2F%2Fwww.googleapis.com%2Fauth%2Fdrive%20https%3A%2F%2Fwww.googleapis.com%2Fauth%2Fdrive.photos.readonly%20https%3A%2F%2Fwww.googleapis.com%2Fauth%2Fpeopleapi.readonly&response_type=code\n",
            "\n",
            "Enter your authorization code:\n",
            "··········\n",
            "Mounted at /content/gdrive\n"
          ],
          "name": "stdout"
        }
      ]
    },
    {
      "cell_type": "markdown",
      "metadata": {
        "id": "fjGLZxGZzPT6",
        "colab_type": "text"
      },
      "source": [
        "# Data"
      ]
    },
    {
      "cell_type": "code",
      "metadata": {
        "id": "Klb7K8Y2zJxO",
        "colab_type": "code",
        "outputId": "3f05d3a9-518a-420c-cec5-41569b3170e5",
        "colab": {
          "base_uri": "https://localhost:8080/",
          "height": 345
        }
      },
      "source": [
        "LABEL_COLUMN = 'Product'\n",
        "DATA_COLUMN = 'Consumer complaint narrative'\n",
        "from sklearn.model_selection import train_test_split\n",
        "# kept_categories = []\n",
        "\n",
        "def filter_subsample_split_data():\n",
        "  # label_list is the list of labels, i.e. True, False or 0, 1 or 'dog', 'cat'\n",
        "  # label_list = []\n",
        "  raw_data_file = complaints_data_dir +'Consumer_Complaints_light.csv'\n",
        "  complains_df = pd.read_csv(filepath_or_buffer=raw_data_file, sep=',')\n",
        "  my_categories = ['Debt collection', 'Mortgage', 'Credit reporting', 'Student loan', 'Credit card', 'Bank account or service', \n",
        "  'Checking or savings account', 'Consumer Loan', 'Vehicle loan or lease', 'Money transfer, virtual currency, or money service']\n",
        "\n",
        "  my_categories = ['Debt collection', 'Mortgage', 'Credit reporting', 'Student loan', 'Credit card']\n",
        "\n",
        "  complains_df = complains_df.loc[complains_df[LABEL_COLUMN].isin(my_categories)].reset_index(drop=True)\n",
        "  print ('size after category filter ', complains_df.shape)\n",
        "  # print (complains_df.head())\n",
        "  count_cols = [LABEL_COLUMN, 'Count']\n",
        "  complains_by_group = complains_df.groupby(by=LABEL_COLUMN,axis=0).count().reset_index().rename(columns = {DATA_COLUMN:'Count'})\n",
        "  # print (type(complains_by_group))\n",
        "  print (complains_by_group.sort_values(by=\"Count\", ascending =False))\n",
        "\n",
        "\n",
        "  ########################### Sub-sample the dataset #########################################\n",
        "  index_reduced = np.arange(0,complains_df.shape[0])\n",
        "  np.random.shuffle(index_reduced)\n",
        "  kept_data_ratio = 0.2\n",
        "  index_reduced = index_reduced[0:int(complains_df.shape[0]*kept_data_ratio)]\n",
        "  complains_df = complains_df.loc[index_reduced]\n",
        "\n",
        "  print ('complaints distribution after subsampling')\n",
        "  count_cols = [LABEL_COLUMN, 'Count']\n",
        "  complains_by_group = complains_df.groupby(by=LABEL_COLUMN,axis=0).count().reset_index().rename(columns = {DATA_COLUMN:'Count'})\n",
        "  # print (type(complains_by_group))\n",
        "  print (complains_by_group.sort_values(by=\"Count\", ascending =False))\n",
        "  kept_categories =  np.sort(complains_df[LABEL_COLUMN].unique())\n",
        "  \n",
        "\n",
        "  ########################### test train split the dataset #########################################\n",
        "  cats = complains_df[LABEL_COLUMN]\n",
        "  corpus = complains_df[DATA_COLUMN]\n",
        "  corpus_train, corpus_test, cat_train, cat_test = train_test_split(corpus, cats, test_size = 0.3, random_state=100)\n",
        "  \n",
        "  ########################### Dump train test datasets #######################################\n",
        "  \n",
        "  corpus_train.to_csv(path_or_buf= train_test_data_dir+'train_corpus.csv', index = False, header = True)\n",
        "  corpus_test.to_csv(path_or_buf= train_test_data_dir+'test_corpus.csv', index = False, header = True)\n",
        "  cat_train.to_csv(path_or_buf= train_test_data_dir+'train_cat.csv', index = False, header = True)\n",
        "  cat_test.to_csv(path_or_buf= train_test_data_dir+'test_cat.csv', index = False, header = True)\n",
        "  print (f'train subset size: {corpus_train.shape}')\n",
        "  print (f'test subset size: {corpus_test.shape}')\n",
        "  \n",
        "   ########################### dump test data set to file for evaluation ############################\n",
        "  test_data_set = pd.concat((cat_test, corpus_test), axis=1)\n",
        "  test_data_set.to_csv(path_or_buf= train_test_data_dir+'test_data_set.csv',columns=['Product', 'Consumer complaint narrative'],index=False)\n",
        "  \n",
        "  return kept_categories\n",
        "  \n",
        "kept_categories = filter_subsample_split_data()\n",
        "print ('kept categories are:',kept_categories )"
      ],
      "execution_count": 4,
      "outputs": [
        {
          "output_type": "stream",
          "text": [
            "size after category filter  (212171, 2)\n",
            "            Product  Count\n",
            "2   Debt collection  86850\n",
            "3          Mortgage  53056\n",
            "1  Credit reporting  31588\n",
            "4      Student loan  21839\n",
            "0       Credit card  18838\n",
            "complaints distribution after subsampling\n",
            "            Product  Count\n",
            "2   Debt collection  17206\n",
            "3          Mortgage  10705\n",
            "1  Credit reporting   6361\n",
            "4      Student loan   4425\n",
            "0       Credit card   3737\n",
            "train subset size: (29703,)\n",
            "test subset size: (12731,)\n",
            "kept categories are: ['Credit card' 'Credit reporting' 'Debt collection' 'Mortgage'\n",
            " 'Student loan']\n"
          ],
          "name": "stdout"
        }
      ]
    },
    {
      "cell_type": "code",
      "metadata": {
        "id": "V4f-XdaMzB_I",
        "colab_type": "code",
        "colab": {}
      },
      "source": [
        "max_seq_length = 512\n",
        "min_seq_length = 5\n",
        "\n",
        "REFUSED_DOC_TAG = '<<<refused_document>>>'\n",
        "def simple_preprocess_func (doc):\n",
        "  seq = gensim.utils.simple_preprocess(gensim.parsing.remove_stopwords(doc), min_len=2, max_len=25)\n",
        "  if len(seq)<min_seq_length or len(seq)>max_seq_length:\n",
        "    return REFUSED_DOC_TAG\n",
        "  else:\n",
        "    return ' '.join(seq)\n"
      ],
      "execution_count": 0,
      "outputs": []
    },
    {
      "cell_type": "code",
      "metadata": {
        "id": "zxLUDtyCzXg8",
        "colab_type": "code",
        "outputId": "05ffcdcd-eeb4-46f5-d8a9-76f6f3f2a7d3",
        "colab": {
          "base_uri": "https://localhost:8080/",
          "height": 217
        }
      },
      "source": [
        "def preprocess_data():\n",
        " \n",
        "  subsets = ('train','test')\n",
        "  dfs = []\n",
        "  for subset in subsets:\n",
        "    ############################# corpus preprocessing ######################################\n",
        "    corpus_path = train_test_data_dir+f'{subset}_corpus.csv'\n",
        "    corpus_ser = pd.read_csv(filepath_or_buffer=corpus_path, sep=',')[DATA_COLUMN]\n",
        "    print (f'{subset} corpus size before preprocessing is {corpus_ser.shape}')\n",
        "    corpus_ser = corpus_ser.apply(lambda txt : simple_preprocess_func(txt))\n",
        "\n",
        "    valid_index = (corpus_ser != REFUSED_DOC_TAG).tolist()\n",
        "    corpus_ser = corpus_ser[valid_index].reset_index(drop=True)\n",
        "    print (f'{subset} corpus size after preprocessing is {corpus_ser.shape}')\n",
        "    \n",
        "    ###################################### Some statictics #####################################\n",
        "    doc_lens = np.array([len(doc.split()) for doc in corpus_ser])\n",
        "    print (f'{subset} mean length is {np.mean(doc_lens)}')\n",
        "    print (f'{subset} max length is {np.max(doc_lens)}')\n",
        "\n",
        "    \n",
        "    ###################################### Named category conversion ##########################\n",
        "    cat_path = train_test_data_dir+ f'{subset}_cat.csv'\n",
        "    cats_ser = pd.read_csv(filepath_or_buffer=cat_path, sep=',')[LABEL_COLUMN]\n",
        "    class_dico = {i:classe for i,classe in enumerate(np.sort(cats_ser.unique()))}\n",
        "    print ('classes', class_dico)\n",
        "    inv_class_dico = {item[1]:item[0] for item in class_dico.items()}\n",
        "    cats_ser = cats_ser.apply(lambda x : inv_class_dico[x])\n",
        "    cats_ser = cats_ser[valid_index].reset_index(drop=True)\n",
        "    #preprocessed_cat_path = f'data\\\\{subset}_cat_reduced.csv'\n",
        "    #cats_ser.to_csv(path_or_buf=preprocessed_cat_path, index=False)\n",
        "\n",
        "    assert(cats_ser.shape[0]==corpus_ser.shape[0])\n",
        "    \n",
        "    ###################################### Dump preprocessed training corpus ###################\n",
        "    if subset=='train':\n",
        "      corpus_ser.to_csv(train_test_data_dir+'preprocessed_train_corpus.csv', header=False)\n",
        "    \n",
        "    ###################################### returning DataFrames ##########################\n",
        "    data_dic = {DATA_COLUMN: corpus_ser, LABEL_COLUMN:cats_ser}\n",
        "    subset_df = pd.DataFrame(data_dic)\n",
        "    dfs.append(subset_df)\n",
        "  \n",
        "  label_list = [i for i in np.sort(dfs[0][LABEL_COLUMN].unique())]\n",
        "  \n",
        "  return dfs[0], dfs[1], label_list\n",
        "\n",
        "train_df, test_df, label_list = preprocess_data()\n",
        "print ('the label list is:', label_list)\n"
      ],
      "execution_count": 19,
      "outputs": [
        {
          "output_type": "stream",
          "text": [
            "train corpus size before preprocessing is (29703,)\n",
            "train corpus size after preprocessing is (29315,)\n",
            "train mean length is 92.64260617431349\n",
            "train max length is 511\n",
            "classes {0: 'Credit card', 1: 'Credit reporting', 2: 'Debt collection', 3: 'Mortgage', 4: 'Student loan'}\n",
            "test corpus size before preprocessing is (12731,)\n",
            "test corpus size after preprocessing is (12556,)\n",
            "test mean length is 92.23900923861102\n",
            "test max length is 511\n",
            "classes {0: 'Credit card', 1: 'Credit reporting', 2: 'Debt collection', 3: 'Mortgage', 4: 'Student loan'}\n",
            "the label list is: [0, 1, 2, 3, 4]\n"
          ],
          "name": "stdout"
        }
      ]
    },
    {
      "cell_type": "code",
      "metadata": {
        "id": "7NMyfY2g7zN4",
        "colab_type": "code",
        "outputId": "4746df2d-364a-400c-e664-4a32e6521019",
        "colab": {
          "base_uri": "https://localhost:8080/",
          "height": 54
        }
      },
      "source": [
        "train_text = train_df[DATA_COLUMN].tolist()\n",
        "train_label = train_df[LABEL_COLUMN].tolist()\n",
        "print (f' train text length {len(train_text)}')\n",
        "\n",
        "\n",
        "test_text = test_df[DATA_COLUMN].tolist()\n",
        "test_label = test_df[LABEL_COLUMN].tolist()\n",
        "print (f' test text length {len(test_text)}')"
      ],
      "execution_count": 20,
      "outputs": [
        {
          "output_type": "stream",
          "text": [
            " train text length 29315\n",
            " test text length 12556\n"
          ],
          "name": "stdout"
        }
      ]
    },
    {
      "cell_type": "markdown",
      "metadata": {
        "id": "SUYybxAL7_hL",
        "colab_type": "text"
      },
      "source": [
        "# Training model"
      ]
    },
    {
      "cell_type": "markdown",
      "metadata": {
        "id": "tSAOCdod8Qbi",
        "colab_type": "text"
      },
      "source": [
        "## fine-tune fasttext"
      ]
    },
    {
      "cell_type": "code",
      "metadata": {
        "id": "sRLWKEvH8Drd",
        "colab_type": "code",
        "outputId": "2345a50a-ce5c-4b6a-e5d8-4be2bb76c1fd",
        "colab": {
          "base_uri": "https://localhost:8080/",
          "height": 54
        }
      },
      "source": [
        "    # # # # # # TRAIN THE MODEL # # # # # # \n",
        "  preprocessed_train_corpus = train_test_data_dir+ 'preprocessed_train_corpus.csv'\n",
        "  t0 = time()\n",
        "  print ('starting training of fasttext model...')\n",
        "  model = ft.train_unsupervised(input=preprocessed_train_corpus, model='skipgram', verbose=0, dim=256, epoch=10)\n",
        "  print ('training of fastText done in {}'.format (time() - t0))\n",
        "\n",
        "  model.save_model(ft_model_path)"
      ],
      "execution_count": 43,
      "outputs": [
        {
          "output_type": "stream",
          "text": [
            "starting training of fasttext model...\n",
            "training of fastText done in 920.0633580684662\n"
          ],
          "name": "stdout"
        }
      ]
    },
    {
      "cell_type": "markdown",
      "metadata": {
        "id": "fGHtKbYFAVy8",
        "colab_type": "text"
      },
      "source": [
        "## generate documents embeddings"
      ]
    },
    {
      "cell_type": "code",
      "metadata": {
        "id": "r2M_BSA-AYNB",
        "colab_type": "code",
        "outputId": "9d501238-2c05-4f0d-83df-5130d59ed05f",
        "colab": {
          "base_uri": "https://localhost:8080/",
          "height": 72
        }
      },
      "source": [
        "\n",
        "#     model_path = f'model\\\\myFastTextModel2_skipgram_{dim}_reduced.bin'\n",
        "#     model = ft2.load_model(model_path)\n",
        "t0 = time()\n",
        "X_train = np.vstack([model.get_sentence_vector(doc) for doc in train_text])\n",
        "X_test = np.vstack([model.get_sentence_vector(doc) for doc in test_text])\n",
        "print(f'it took {time()- t0} seconds to infer fasttext embeddings')\n",
        "\n",
        "print (f'subset train shape {X_train.shape}')\n",
        "print (f'subset test shape {X_test.shape}')"
      ],
      "execution_count": 44,
      "outputs": [
        {
          "output_type": "stream",
          "text": [
            "it took 22.952621698379517 seconds to infer fasttext embeddings\n",
            "subset train shape (29315, 256)\n",
            "subset test shape (12556, 256)\n"
          ],
          "name": "stdout"
        }
      ]
    },
    {
      "cell_type": "markdown",
      "metadata": {
        "id": "t24o29eyBpI2",
        "colab_type": "text"
      },
      "source": [
        "## scaling data"
      ]
    },
    {
      "cell_type": "code",
      "metadata": {
        "id": "WRZH5MsHBZ3D",
        "colab_type": "code",
        "outputId": "40c39780-114b-4672-bf8e-1d8cf8d1a7da",
        "colab": {
          "base_uri": "https://localhost:8080/",
          "height": 54
        }
      },
      "source": [
        "t0 = time()\n",
        "scaler = StandardScaler()\n",
        "X_train = scaler.fit_transform(X_train)\n",
        "X_test = scaler.transform(X_test)\n",
        "print(f'scaling the data it took {time()- t0} seconds')\n",
        "\n",
        "joblib.dump(scaler, data_scaler_path) "
      ],
      "execution_count": 45,
      "outputs": [
        {
          "output_type": "stream",
          "text": [
            "scaling the data it took 0.19751405715942383 seconds\n"
          ],
          "name": "stdout"
        },
        {
          "output_type": "execute_result",
          "data": {
            "text/plain": [
              "['/content/gdrive/My Drive/my_colab_storage/CC_fasttext_models/std_scaler.sav']"
            ]
          },
          "metadata": {
            "tags": []
          },
          "execution_count": 45
        }
      ]
    },
    {
      "cell_type": "markdown",
      "metadata": {
        "id": "GW7MvOYvBwRp",
        "colab_type": "text"
      },
      "source": [
        "## training the classifier"
      ]
    },
    {
      "cell_type": "code",
      "metadata": {
        "id": "oFWMfYsnBzNo",
        "colab_type": "code",
        "outputId": "06011515-065f-4914-d16f-20bead9ba4f8",
        "colab": {
          "base_uri": "https://localhost:8080/",
          "height": 54
        }
      },
      "source": [
        "clf = SVC(probability=True)\n",
        "t0 = time()\n",
        "clf.fit(X_train, train_label)\n",
        "print(f'training the model {clf.__class__.__name__} took {time()- t0} seconds')\n",
        "\n",
        "joblib.dump(clf, trained_classifier_path)"
      ],
      "execution_count": 46,
      "outputs": [
        {
          "output_type": "stream",
          "text": [
            "training the model SVC took 452.0077519416809 seconds\n"
          ],
          "name": "stdout"
        },
        {
          "output_type": "execute_result",
          "data": {
            "text/plain": [
              "['/content/gdrive/My Drive/my_colab_storage/CC_fasttext_models/fasttext_svm_classifier.sav']"
            ]
          },
          "metadata": {
            "tags": []
          },
          "execution_count": 46
        }
      ]
    },
    {
      "cell_type": "markdown",
      "metadata": {
        "id": "3OLWe8xjCWij",
        "colab_type": "text"
      },
      "source": [
        "## Evaluate classifier"
      ]
    },
    {
      "cell_type": "code",
      "metadata": {
        "id": "DoMPcRrgCZLJ",
        "colab_type": "code",
        "outputId": "38964769-3ced-45d6-fb2f-83e830ce1fe2",
        "colab": {
          "base_uri": "https://localhost:8080/",
          "height": 254
        }
      },
      "source": [
        "label_pred = clf.predict(X_test)\n",
        "print (f'{clf.__class__.__name__} with FastText accuracy score {clf.score(X_test, test_label)}')\n",
        "\n",
        "classification_report_df = classification_report(test_label, label_pred, target_names = kept_categories) \n",
        "print (classification_report_df)"
      ],
      "execution_count": 47,
      "outputs": [
        {
          "output_type": "stream",
          "text": [
            "SVC with FastText accuracy score 0.8965434851863651\n",
            "                  precision    recall  f1-score   support\n",
            "\n",
            "     Credit card       0.86      0.81      0.83      1132\n",
            "Credit reporting       0.85      0.80      0.82      1865\n",
            " Debt collection       0.88      0.92      0.90      5173\n",
            "        Mortgage       0.95      0.96      0.95      3086\n",
            "    Student loan       0.93      0.87      0.90      1300\n",
            "\n",
            "        accuracy                           0.90     12556\n",
            "       macro avg       0.89      0.87      0.88     12556\n",
            "    weighted avg       0.90      0.90      0.90     12556\n",
            "\n"
          ],
          "name": "stdout"
        }
      ]
    },
    {
      "cell_type": "markdown",
      "metadata": {
        "id": "AZ0i2pKU3eIw",
        "colab_type": "text"
      },
      "source": [
        "## Evaluation with keras DNN"
      ]
    },
    {
      "cell_type": "code",
      "metadata": {
        "id": "f5OC9OWyWnCX",
        "colab_type": "code",
        "colab": {
          "base_uri": "https://localhost:8080/",
          "height": 708
        },
        "outputId": "a325f1e1-f934-4c10-d95c-5988cbb850a1"
      },
      "source": [
        "import tensorflow as tf\n",
        "\n",
        "train_label = np.array(train_label)\n",
        "test_label = np.array(test_label)\n",
        "\n",
        "print (X_train.shape)\n",
        "print (train_label.shape)\n",
        "\n",
        "\n",
        "dnn_model = tf.keras.models.Sequential()\n",
        "dnn_model.add(tf.keras.layers.Dense(256, activation='relu', input_dim=256 ))\n",
        "dnn_model.add(tf.keras.layers.Dense(64, activation='relu' ))\n",
        "dnn_model.add(tf.keras.layers.Dense(5, activation='softmax' ))\n",
        "\n",
        "dnn_model.compile(optimizer='adam', loss='sparse_categorical_crossentropy', metrics=['accuracy'])\n",
        "dnn_model.summary()\n",
        "\n",
        "# categorical_train_labels = keras.utils.to_categorical(train_label, num_classes=len(label_list))\n",
        "# categorical_test_labels = keras.utils.to_categorical(test_labels, num_classes=len(label_list))\n",
        "\n",
        "# X_train = X_train.reshape(X_train.shape[0], X_train.shape[1], 1)\n",
        "# X_test = X_test.reshape(X_test.shape[0], X_test.shape[1], 1)\n",
        "dnn_model.fit(X_train, train_label, epochs=10)\n",
        "test_loss, acc = dnn_model.evaluate(X_test, test_label)\n",
        "print (f'evaluation acc {acc}')"
      ],
      "execution_count": 48,
      "outputs": [
        {
          "output_type": "stream",
          "text": [
            "(29315, 256)\n",
            "(29315,)\n",
            "Model: \"sequential_15\"\n",
            "_________________________________________________________________\n",
            "Layer (type)                 Output Shape              Param #   \n",
            "=================================================================\n",
            "dense_45 (Dense)             (None, 256)               65792     \n",
            "_________________________________________________________________\n",
            "dense_46 (Dense)             (None, 64)                16448     \n",
            "_________________________________________________________________\n",
            "dense_47 (Dense)             (None, 5)                 325       \n",
            "=================================================================\n",
            "Total params: 82,565\n",
            "Trainable params: 82,565\n",
            "Non-trainable params: 0\n",
            "_________________________________________________________________\n",
            "Epoch 1/10\n",
            "29315/29315 [==============================] - 3s 90us/sample - loss: 0.3855 - acc: 0.8731\n",
            "Epoch 2/10\n",
            "29315/29315 [==============================] - 2s 85us/sample - loss: 0.3002 - acc: 0.8989\n",
            "Epoch 3/10\n",
            "29315/29315 [==============================] - 3s 87us/sample - loss: 0.2676 - acc: 0.9078\n",
            "Epoch 4/10\n",
            "29315/29315 [==============================] - 3s 92us/sample - loss: 0.2397 - acc: 0.9171\n",
            "Epoch 5/10\n",
            "29315/29315 [==============================] - 3s 91us/sample - loss: 0.2131 - acc: 0.9257\n",
            "Epoch 6/10\n",
            "29315/29315 [==============================] - 3s 91us/sample - loss: 0.1952 - acc: 0.9304\n",
            "Epoch 7/10\n",
            "29315/29315 [==============================] - 3s 86us/sample - loss: 0.1703 - acc: 0.9394\n",
            "Epoch 8/10\n",
            "29315/29315 [==============================] - 3s 89us/sample - loss: 0.1496 - acc: 0.9476\n",
            "Epoch 9/10\n",
            "29315/29315 [==============================] - 3s 87us/sample - loss: 0.1338 - acc: 0.9533\n",
            "Epoch 10/10\n",
            "29315/29315 [==============================] - 3s 86us/sample - loss: 0.1169 - acc: 0.9583\n",
            "12556/12556 [==============================] - 1s 56us/sample - loss: 0.4760 - acc: 0.8805\n",
            "evaluation acc 0.8804555535316467\n"
          ],
          "name": "stdout"
        }
      ]
    },
    {
      "cell_type": "markdown",
      "metadata": {
        "id": "59r5SduTLpGR",
        "colab_type": "text"
      },
      "source": [
        "## Evaluate on training set"
      ]
    },
    {
      "cell_type": "code",
      "metadata": {
        "id": "5jY_JGNnLukv",
        "colab_type": "code",
        "outputId": "156fb83f-a9ea-415b-e7e3-ef552efd843b",
        "colab": {
          "base_uri": "https://localhost:8080/",
          "height": 254
        }
      },
      "source": [
        "label_pred = clf.predict(X_train)\n",
        "print (f'{clf.__class__.__name__} with FastText accuracy score {clf.score(X_train, train_label)}')\n",
        "\n",
        "classification_report_df = classification_report(train_label, label_pred, target_names = kept_categories) \n",
        "print (classification_report_df)"
      ],
      "execution_count": 49,
      "outputs": [
        {
          "output_type": "stream",
          "text": [
            "SVC with FastText accuracy score 0.9393825686508613\n",
            "                  precision    recall  f1-score   support\n",
            "\n",
            "     Credit card       0.92      0.87      0.89      2586\n",
            "Credit reporting       0.92      0.89      0.91      4392\n",
            " Debt collection       0.93      0.95      0.94     12009\n",
            "        Mortgage       0.96      0.98      0.97      7363\n",
            "    Student loan       0.94      0.92      0.93      2965\n",
            "\n",
            "        accuracy                           0.94     29315\n",
            "       macro avg       0.94      0.92      0.93     29315\n",
            "    weighted avg       0.94      0.94      0.94     29315\n",
            "\n"
          ],
          "name": "stdout"
        }
      ]
    },
    {
      "cell_type": "markdown",
      "metadata": {
        "id": "acUgNPj1wP8u",
        "colab_type": "text"
      },
      "source": [
        "# Model's predictions Analysis"
      ]
    },
    {
      "cell_type": "code",
      "metadata": {
        "id": "AAd70jATDONZ",
        "colab_type": "code",
        "outputId": "f1b2c59d-9dc2-40bb-9907-1627afec21fc",
        "colab": {
          "base_uri": "https://localhost:8080/",
          "height": 199
        }
      },
      "source": [
        "\n",
        "ft_model = ft.load_model(ft_model_path)\n",
        "scaler = joblib.load(data_scaler_path)\n",
        "classifier =joblib.load(trained_classifier_path)\n",
        "\n",
        "cat_dict = {0: 'Credit card', 1: 'Credit reporting', 2: 'Debt collection', 3: 'Mortgage', 4: 'Student loan'}\n",
        "cats_list = list(cat_dict.values())\n",
        "\n",
        "test_data_df = pd.read_csv(train_test_data_dir+'test_data_set.csv')\n",
        "\n",
        "\n",
        "\n",
        "confidence_threshold_span = np.arange(0.5, 0.95, 0.05)\n",
        "std_dev_threshold = 0.3\n",
        "\n",
        "unclassified_perc = []\n",
        "true_confident_classification_perc = []\n",
        "\n",
        "for confidence_threshold in confidence_threshold_span:\n",
        "  nb_correct_calssification = 0\n",
        "  nb_unclassified = 0\n",
        "  nb_refused_documents = 0\n",
        "  \n",
        "  for index , row in test_data_df.iterrows():\n",
        "    preprocessed_doc = simple_preprocess_func (row['Consumer complaint narrative'])\n",
        "    if preprocessed_doc != REFUSED_DOC_TAG:\n",
        "      # get the document embedding\n",
        "      tf_embeddings = ft_model.get_sentence_vector(preprocessed_doc)\n",
        "      # scale the embeddings\n",
        "      tf_embeddings = scaler.transform(tf_embeddings.reshape(1,-1))\n",
        "      # run classification\n",
        "      preds = classifier.predict_proba(tf_embeddings.reshape(1,-1))\n",
        "\n",
        "\n",
        "      proba_dict = dict(zip(cats_list, preds[0]))\n",
        "\n",
        "\n",
        "      cats, proba_list = list(proba_dict.keys()), list(proba_dict.values())\n",
        "      if np.max(proba_list) > confidence_threshold :#or np.std(proba_list)>std_dev_threshold:\n",
        "        if cats[np.argmax(proba_list)] == row['Product']:\n",
        "          nb_correct_calssification +=1\n",
        "      else:\n",
        "        nb_unclassified +=1\n",
        "    else:\n",
        "      nb_refused_documents +=1\n",
        "  \n",
        "  unclassified_per = ((nb_refused_documents+nb_unclassified)/test_data_df.shape[0])*100\n",
        "  correct_confident_classification_per = nb_correct_calssification/(test_data_df.shape[0]-nb_unclassified-nb_refused_documents)*100\n",
        "  print (f'testing with confidence level {confidence_threshold:.2f} gave {unclassified_per:.2f}% unclassified percentage and {correct_confident_classification_per:.2f}% accuracy on confident classification')\n",
        "  unclassified_perc.append(unclassified_per)\n",
        "  true_confident_classification_perc.append(correct_confident_classification_per)\n",
        "  \n",
        "\n",
        "\n",
        "# print (f'refused docs percentage: {nb_refused_documents/test_data_df.shape[0] }')\n",
        "# print (f'unclassified percentage: {nb_unclassified/(test_data_df.shape[0] - nb_refused_documents)}')\n",
        "# print (f'accuracy on confident classification percentage: {nb_correct_calssification/(test_data_df.shape[0]-nb_unclassified-nb_refused_documents)}')\n"
      ],
      "execution_count": 6,
      "outputs": [
        {
          "output_type": "stream",
          "text": [
            "\n"
          ],
          "name": "stderr"
        },
        {
          "output_type": "stream",
          "text": [
            "testing with confidence level 0.50 gave 4.05% unclassified percentage and 91.88% accuracy on confident classification\n",
            "testing with confidence level 0.55 gave 6.10% unclassified percentage and 92.73% accuracy on confident classification\n",
            "testing with confidence level 0.60 gave 8.19% unclassified percentage and 93.49% accuracy on confident classification\n",
            "testing with confidence level 0.65 gave 10.29% unclassified percentage and 94.24% accuracy on confident classification\n",
            "testing with confidence level 0.70 gave 12.49% unclassified percentage and 94.87% accuracy on confident classification\n",
            "testing with confidence level 0.75 gave 15.20% unclassified percentage and 95.37% accuracy on confident classification\n",
            "testing with confidence level 0.80 gave 18.08% unclassified percentage and 95.79% accuracy on confident classification\n",
            "testing with confidence level 0.85 gave 22.83% unclassified percentage and 96.27% accuracy on confident classification\n",
            "testing with confidence level 0.90 gave 29.95% unclassified percentage and 97.12% accuracy on confident classification\n"
          ],
          "name": "stdout"
        }
      ]
    },
    {
      "cell_type": "code",
      "metadata": {
        "id": "PUyOeF191aX3",
        "colab_type": "code",
        "outputId": "68cc30ef-7af3-4628-c521-440b90d91ab7",
        "colab": {
          "base_uri": "https://localhost:8080/",
          "height": 675
        }
      },
      "source": [
        "import matplotlib.pyplot as plt\n",
        "%matplotlib inline\n",
        "\n",
        "print (unclassified_perc)\n",
        "print (true_confident_classification_perc)\n",
        "\n",
        "plt.figure(figsize=(10,10))\n",
        "\n",
        "plt.plot(confidence_threshold_span, true_confident_classification_perc,  '.-', label = 'accuracy on confident classification', color='green')\n",
        "plt.plot(confidence_threshold_span, unclassified_perc, '.-',label = 'unclassified document percentage', color='red')\n",
        "# Add titles\n",
        "plt.title(\"prediction confidence analysis\")\n",
        "plt.xlabel(\"confidence threshold\")\n",
        "# Add legend\n",
        "plt.legend(loc='center')\n",
        "\n"
      ],
      "execution_count": 7,
      "outputs": [
        {
          "output_type": "stream",
          "text": [
            "[4.045243892859948, 6.103212630586756, 8.192600738355196, 10.289843688634043, 12.48919959154819, 15.199120257638835, 18.081847458958446, 22.826172335244678, 29.950514492184432]\n",
            "[91.87950229207597, 92.73046678935921, 93.48904859685148, 94.23868312757202, 94.87478682344494, 95.36865505742867, 95.79058394860486, 96.27480916030534, 97.11818793451447]\n"
          ],
          "name": "stdout"
        },
        {
          "output_type": "execute_result",
          "data": {
            "text/plain": [
              "<matplotlib.legend.Legend at 0x7fc6c2ff05f8>"
            ]
          },
          "metadata": {
            "tags": []
          },
          "execution_count": 7
        },
        {
          "output_type": "display_data",
          "data": {
            "image/png": "[encoded data removed]",
            "text/plain": [
              "<Figure size 720x720 with 1 Axes>"
            ]
          },
          "metadata": {
            "tags": []
          }
        }
      ]
    },
    {
      "cell_type": "code",
      "metadata": {
        "id": "hWTjERDLG0-N",
        "colab_type": "code",
        "colab": {}
      },
      "source": [
        ""
      ],
      "execution_count": 0,
      "outputs": []
    }
  ]
}